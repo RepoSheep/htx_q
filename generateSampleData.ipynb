{
 "cells": [
  {
   "cell_type": "code",
   "execution_count": 2,
   "id": "9c6b13dc",
   "metadata": {},
   "outputs": [],
   "source": [
    "import pandas as pd\n",
    "import pyarrow as pa\n",
    "import pyarrow.parquet as pq\n",
    "import numpy as np"
   ]
  },
  {
   "cell_type": "code",
   "execution_count": 18,
   "id": "674750d2",
   "metadata": {},
   "outputs": [
    {
     "data": {
      "text/plain": [
       "pyarrow.Table\n",
       "geographical_location_oid: int64\n",
       "video_camera_oid: int64\n",
       "detection_oid: int64\n",
       "item_name: string\n",
       "timestamp_detected: int64\n",
       "----\n",
       "geographical_location_oid: [[1,2,3,4,5,...,96,97,98,99,100]]\n",
       "video_camera_oid: [[85,27,91,32,42,...,60,88,53,16,45]]\n",
       "detection_oid: [[0,1,2,3,4,...,95,96,97,98,99]]\n",
       "item_name: [[\"item_0\",\"item_1\",\"item_2\",\"item_3\",\"item_4\",...,\"item_95\",\"item_96\",\"item_97\",\"item_98\",\"item_99\"]]\n",
       "timestamp_detected: [[1624129438,1625505984,1621893250,1616971260,1627536555,...,1626667228,1633905203,1611031884,1619589486,1628494055]]"
      ]
     },
     "metadata": {},
     "output_type": "display_data"
    }
   ],
   "source": [
    "import os\n",
    "\n",
    "trans_data = {\n",
    "    'geographical_location_oid': [i+1 for i in range(100)],\n",
    "    'video_camera_oid': np.random.choice(range(1, 100), size=100, replace=True),\n",
    "    'detection_oid': [i for i in range(100)],\n",
    "    'item_name': ['item_' + str(i) for i in range(100)],\n",
    "    'timestamp_detected': np.random.randint(1609459200, 1640995200, size=100)  # Random timestamps in 2021\n",
    "}\n",
    "\n",
    "df = pd.DataFrame(trans_data)\n",
    "\n",
    "schema = pa.schema([\n",
    "    ('geographical_location_oid', pa.int64()),\n",
    "    ('video_camera_oid', pa.int64()),\n",
    "    ('detection_oid', pa.int64()),\n",
    "    ('item_name', pa.string()),\n",
    "    ('timestamp_detected', pa.int64())\n",
    "])\n",
    "\n",
    "table = pa.Table.from_pandas(df, schema=schema)\n",
    "display(table)\n",
    "os.makedirs('./data', exist_ok=True)\n",
    "pq.write_table(table, './data/trans.parquet')\n"
   ]
  },
  {
   "cell_type": "code",
   "execution_count": 19,
   "id": "f8da4f32",
   "metadata": {},
   "outputs": [
    {
     "data": {
      "text/plain": [
       "pyarrow.Table\n",
       "geographical_location_oid: int64\n",
       "geographical_location: string\n",
       "----\n",
       "geographical_location_oid: [[415346,187123,193030,213014,128350,527908,258757,182850,981764,951610]]\n",
       "geographical_location: [[\"location_0\",\"location_1\",\"location_2\",\"location_3\",\"location_4\",\"location_5\",\"location_6\",\"location_7\",\"location_8\",\"location_9\"]]"
      ]
     },
     "metadata": {},
     "output_type": "display_data"
    }
   ],
   "source": [
    "sample_data = {\n",
    "    'geographical_location_oid': np.random.randint(1, 1000000, size=10),\n",
    "    'geographical_location': ['location_' + str(i) for i in range(10)]\n",
    "}\n",
    "\n",
    "df = pd.DataFrame(sample_data)\n",
    "\n",
    "schema = pa.schema([\n",
    "    ('geographical_location_oid', pa.int64()),\n",
    "    ('geographical_location', pa.string()),\n",
    "])\n",
    "\n",
    "table = pa.Table.from_pandas(df, schema=schema)\n",
    "display(table)\n",
    "pq.write_table(table, './data/ref_table.parquet')\n",
    "# pq.write_table(table, 'sample_dataset_a.parquet')"
   ]
  },
  {
   "cell_type": "code",
   "execution_count": null,
   "id": "ccfdc555",
   "metadata": {},
   "outputs": [],
   "source": []
  },
  {
   "cell_type": "code",
   "execution_count": null,
   "id": "42696169",
   "metadata": {},
   "outputs": [],
   "source": []
  }
 ],
 "metadata": {
  "kernelspec": {
   "display_name": "base",
   "language": "python",
   "name": "python3"
  },
  "language_info": {
   "codemirror_mode": {
    "name": "ipython",
    "version": 3
   },
   "file_extension": ".py",
   "mimetype": "text/x-python",
   "name": "python",
   "nbconvert_exporter": "python",
   "pygments_lexer": "ipython3",
   "version": "3.10.12"
  }
 },
 "nbformat": 4,
 "nbformat_minor": 5
}
